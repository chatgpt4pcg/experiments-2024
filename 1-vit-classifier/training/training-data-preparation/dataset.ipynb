{
 "cells": [
  {
   "cell_type": "code",
   "execution_count": 11,
   "id": "initial_id",
   "metadata": {
    "collapsed": true,
    "ExecuteTime": {
     "end_time": "2024-01-12T00:09:54.676556Z",
     "start_time": "2024-01-12T00:09:54.663094Z"
    }
   },
   "outputs": [],
   "source": [
    "import random\n",
    "from pathlib import Path\n",
    "from PIL import Image"
   ]
  },
  {
   "cell_type": "code",
   "outputs": [],
   "source": [
    "random.seed(42)"
   ],
   "metadata": {
    "collapsed": false,
    "ExecuteTime": {
     "end_time": "2024-01-12T00:09:07.863426Z",
     "start_time": "2024-01-12T00:09:07.861293Z"
    }
   },
   "id": "1acc3416c524cd6",
   "execution_count": 2
  },
  {
   "cell_type": "code",
   "outputs": [],
   "source": [
    "root_path = Path(\"generated_data\")\n",
    "output_path = Path(\"data\")"
   ],
   "metadata": {
    "collapsed": false,
    "ExecuteTime": {
     "end_time": "2024-01-12T00:09:07.868119Z",
     "start_time": "2024-01-12T00:09:07.863444Z"
    }
   },
   "id": "a15ed10638e366c2",
   "execution_count": 3
  },
  {
   "cell_type": "code",
   "outputs": [],
   "source": [
    "output_path.mkdir(exist_ok=True)"
   ],
   "metadata": {
    "collapsed": false,
    "ExecuteTime": {
     "end_time": "2024-01-12T00:09:07.964996Z",
     "start_time": "2024-01-12T00:09:07.937619Z"
    }
   },
   "id": "22fa2cc2e50633e5",
   "execution_count": 4
  },
  {
   "cell_type": "code",
   "outputs": [],
   "source": [
    "train_path = output_path / \"train\"\n",
    "test_path = output_path / \"test\""
   ],
   "metadata": {
    "collapsed": false,
    "ExecuteTime": {
     "end_time": "2024-01-12T00:09:08.792161Z",
     "start_time": "2024-01-12T00:09:08.788677Z"
    }
   },
   "id": "963b5437244816e2",
   "execution_count": 5
  },
  {
   "cell_type": "code",
   "outputs": [],
   "source": [
    "train_path.mkdir(exist_ok=True)\n",
    "test_path.mkdir(exist_ok=True)"
   ],
   "metadata": {
    "collapsed": false,
    "ExecuteTime": {
     "end_time": "2024-01-12T00:09:09.449189Z",
     "start_time": "2024-01-12T00:09:09.446252Z"
    }
   },
   "id": "1f622ae2bba673e2",
   "execution_count": 6
  },
  {
   "cell_type": "code",
   "outputs": [],
   "source": [
    "folders = [x for x in root_path.iterdir() if x.is_dir()]"
   ],
   "metadata": {
    "collapsed": false,
    "ExecuteTime": {
     "end_time": "2024-01-12T00:09:10.065901Z",
     "start_time": "2024-01-12T00:09:10.062778Z"
    }
   },
   "id": "2d9cf5f3fe72f0d9",
   "execution_count": 7
  },
  {
   "cell_type": "code",
   "outputs": [],
   "source": [
    "for folder in folders:\n",
    "    files = [x for x in folder.iterdir() if x.is_file()]\n",
    "    for file in files:\n",
    "        file_name = file.name.split(\".\")[0]\n",
    "        file_extension = file.name.split(\".\")[1]\n",
    "\n",
    "        if file_extension == \"png\":\n",
    "            output_folder = train_path / file_name\n",
    "            output_folder.mkdir(exist_ok=True)\n",
    "            output_file = output_folder / f\"{len([x for x in output_folder.iterdir() if x.is_file()])}.png\"\n",
    "            file.rename(output_file)"
   ],
   "metadata": {
    "collapsed": false,
    "ExecuteTime": {
     "end_time": "2024-01-12T00:09:11.474528Z",
     "start_time": "2024-01-12T00:09:10.769606Z"
    }
   },
   "id": "64005d4a1c1cc160",
   "execution_count": 8
  },
  {
   "cell_type": "code",
   "outputs": [],
   "source": [
    "train_folders = [x for x in train_path.iterdir() if x.is_dir()]\n",
    "\n",
    "for folder in train_folders:\n",
    "    files = [x for x in folder.iterdir() if x.is_file() and x.suffix == \".png\"]\n",
    "    for i in range(9):\n",
    "        file = random.choice(files)\n",
    "        output_folder = test_path / folder.name\n",
    "        output_folder.mkdir(exist_ok=True)\n",
    "        output_file = output_folder / f\"{len([x for x in output_folder.iterdir() if x.is_file()])}.png\"\n",
    "        file.rename(output_file)\n",
    "        files.remove(file)"
   ],
   "metadata": {
    "collapsed": false,
    "ExecuteTime": {
     "end_time": "2024-01-12T00:09:25.500159Z",
     "start_time": "2024-01-12T00:09:25.459674Z"
    }
   },
   "id": "d3c005c31cc48fcb",
   "execution_count": 9
  },
  {
   "cell_type": "code",
   "outputs": [],
   "source": [
    "train_folders = [x for x in train_path.iterdir() if x.is_dir()]\n",
    "test_folders = [x for x in test_path.iterdir() if x.is_dir()]\n",
    "\n",
    "for folder in train_folders:\n",
    "    files = [x for x in folder.iterdir() if x.is_file() and x.suffix == \".png\"]\n",
    "    for file in files:\n",
    "        img = Image.open(file)    \n",
    "        img = img.convert('RGB')\n",
    "        output_file = file.parent / f\"{file.name.split('.')[0]}.jpg\"\n",
    "        img.save(output_file)\n",
    "        file.unlink()\n",
    "\n",
    "for folder in test_folders:\n",
    "    files = [x for x in folder.iterdir() if x.is_file() and x.suffix == \".png\"]\n",
    "    for file in files:\n",
    "        img = Image.open(file)\n",
    "        img = img.convert('RGB')\n",
    "        output_file = file.parent / f\"{file.name.split('.')[0]}.jpg\"\n",
    "        img.save(output_file)\n",
    "        file.unlink()"
   ],
   "metadata": {
    "collapsed": false,
    "ExecuteTime": {
     "end_time": "2024-01-12T00:10:00.988449Z",
     "start_time": "2024-01-12T00:09:57.167051Z"
    }
   },
   "id": "728fd5a9ff833611",
   "execution_count": 12
  },
  {
   "cell_type": "markdown",
   "source": [
    "# Push to Hugging Face Hub"
   ],
   "metadata": {
    "collapsed": false
   },
   "id": "761fad72b0f52e30"
  },
  {
   "cell_type": "code",
   "outputs": [],
   "source": [
    "from datasets import load_dataset"
   ],
   "metadata": {
    "collapsed": false,
    "ExecuteTime": {
     "end_time": "2024-01-12T00:10:16.529423Z",
     "start_time": "2024-01-12T00:10:15.391549Z"
    }
   },
   "id": "cdfbc2535f102cbf",
   "execution_count": 13
  },
  {
   "cell_type": "code",
   "outputs": [
    {
     "data": {
      "text/plain": "Resolving data files:   0%|          | 0/2340 [00:00<?, ?it/s]",
      "application/vnd.jupyter.widget-view+json": {
       "version_major": 2,
       "version_minor": 0,
       "model_id": "aa2f1f6798dd4a5e860c4d7b845e7236"
      }
     },
     "metadata": {},
     "output_type": "display_data"
    },
    {
     "data": {
      "text/plain": "Resolving data files:   0%|          | 0/234 [00:00<?, ?it/s]",
      "application/vnd.jupyter.widget-view+json": {
       "version_major": 2,
       "version_minor": 0,
       "model_id": "ae63bebe8e3846119d33f98913a3befd"
      }
     },
     "metadata": {},
     "output_type": "display_data"
    },
    {
     "data": {
      "text/plain": "Generating train split: 0 examples [00:00, ? examples/s]",
      "application/vnd.jupyter.widget-view+json": {
       "version_major": 2,
       "version_minor": 0,
       "model_id": "8d6d2d6cdabe4354a784c2b065df052b"
      }
     },
     "metadata": {},
     "output_type": "display_data"
    },
    {
     "data": {
      "text/plain": "Generating test split: 0 examples [00:00, ? examples/s]",
      "application/vnd.jupyter.widget-view+json": {
       "version_major": 2,
       "version_minor": 0,
       "model_id": "b1265bf8561644d69ad9911d64b2d2b1"
      }
     },
     "metadata": {},
     "output_type": "display_data"
    }
   ],
   "source": [
    "dataset = load_dataset(\"imagefolder\", data_dir=str(output_path))"
   ],
   "metadata": {
    "collapsed": false,
    "ExecuteTime": {
     "end_time": "2024-01-12T00:10:19.531118Z",
     "start_time": "2024-01-12T00:10:16.991897Z"
    }
   },
   "id": "40b436dc1638df2e",
   "execution_count": 14
  },
  {
   "cell_type": "code",
   "outputs": [
    {
     "data": {
      "text/plain": "Uploading the dataset shards:   0%|          | 0/1 [00:00<?, ?it/s]",
      "application/vnd.jupyter.widget-view+json": {
       "version_major": 2,
       "version_minor": 0,
       "model_id": "199dcacba3ec47f4a3fb1b7d1399512d"
      }
     },
     "metadata": {},
     "output_type": "display_data"
    },
    {
     "data": {
      "text/plain": "Map:   0%|          | 0/2340 [00:00<?, ? examples/s]",
      "application/vnd.jupyter.widget-view+json": {
       "version_major": 2,
       "version_minor": 0,
       "model_id": "2564a2b7f49642bab1122bc511f07695"
      }
     },
     "metadata": {},
     "output_type": "display_data"
    },
    {
     "data": {
      "text/plain": "Creating parquet from Arrow format:   0%|          | 0/24 [00:00<?, ?ba/s]",
      "application/vnd.jupyter.widget-view+json": {
       "version_major": 2,
       "version_minor": 0,
       "model_id": "df3c8fd345114fe8af73d30754c7da6f"
      }
     },
     "metadata": {},
     "output_type": "display_data"
    },
    {
     "data": {
      "text/plain": "Uploading the dataset shards:   0%|          | 0/1 [00:00<?, ?it/s]",
      "application/vnd.jupyter.widget-view+json": {
       "version_major": 2,
       "version_minor": 0,
       "model_id": "5e5c6f094ed04228a4d2ea2e40b460da"
      }
     },
     "metadata": {},
     "output_type": "display_data"
    },
    {
     "data": {
      "text/plain": "Map:   0%|          | 0/234 [00:00<?, ? examples/s]",
      "application/vnd.jupyter.widget-view+json": {
       "version_major": 2,
       "version_minor": 0,
       "model_id": "18addeb6dd214123a6c61aa829ffdea5"
      }
     },
     "metadata": {},
     "output_type": "display_data"
    },
    {
     "data": {
      "text/plain": "Creating parquet from Arrow format:   0%|          | 0/3 [00:00<?, ?ba/s]",
      "application/vnd.jupyter.widget-view+json": {
       "version_major": 2,
       "version_minor": 0,
       "model_id": "bdec3ff2cd0a4651bc76ba67dfb2927f"
      }
     },
     "metadata": {},
     "output_type": "display_data"
    },
    {
     "data": {
      "text/plain": "README.md:   0%|          | 0.00/898 [00:00<?, ?B/s]",
      "application/vnd.jupyter.widget-view+json": {
       "version_major": 2,
       "version_minor": 0,
       "model_id": "64df9bcaae854540be13daac646371ab"
      }
     },
     "metadata": {},
     "output_type": "display_data"
    },
    {
     "data": {
      "text/plain": "CommitInfo(commit_url='https://huggingface.co/datasets/pittawat/uppercase-english-characters/commit/046355b52daca1bc9b2c0d7d538be8c0b9ab8042', commit_message='Upload dataset', commit_description='', oid='046355b52daca1bc9b2c0d7d538be8c0b9ab8042', pr_url=None, pr_revision=None, pr_num=None)"
     },
     "execution_count": 15,
     "metadata": {},
     "output_type": "execute_result"
    }
   ],
   "source": [
    "dataset.push_to_hub(\"pittawat/uppercase-english-characters\", token=\"\")"
   ],
   "metadata": {
    "collapsed": false,
    "ExecuteTime": {
     "end_time": "2024-01-12T00:10:35.405257Z",
     "start_time": "2024-01-12T00:10:21.398250Z"
    }
   },
   "id": "f195471eeb196245",
   "execution_count": 15
  }
 ],
 "metadata": {
  "kernelspec": {
   "display_name": "Python 3",
   "language": "python",
   "name": "python3"
  },
  "language_info": {
   "codemirror_mode": {
    "name": "ipython",
    "version": 2
   },
   "file_extension": ".py",
   "mimetype": "text/x-python",
   "name": "python",
   "nbconvert_exporter": "python",
   "pygments_lexer": "ipython2",
   "version": "2.7.6"
  }
 },
 "nbformat": 4,
 "nbformat_minor": 5
}
